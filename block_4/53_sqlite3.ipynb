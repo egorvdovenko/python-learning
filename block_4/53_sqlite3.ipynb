{
 "cells": [
  {
   "cell_type": "markdown",
   "metadata": {
    "id": "N9V0Mu31F3g0"
   },
   "source": [
    "# SQLite\n",
    "В этом блокноте мы поговорим о *системе управления базами данных* (*СУБД*) **SQLite**.<br>\n",
    "Преимуществом **SQLite** перед остальными *СУБД* заключается в том, что базы данных можно создавать и запускать прямо в **Google Colab**."
   ]
  },
  {
   "cell_type": "code",
   "execution_count": 1,
   "metadata": {
    "colab": {
     "base_uri": "https://localhost:8080/"
    },
    "executionInfo": {
     "elapsed": 4,
     "status": "ok",
     "timestamp": 1649241020431,
     "user": {
      "displayName": "Николай Смирнов",
      "userId": "05792503510966078252"
     },
     "user_tz": -180
    },
    "id": "hMfuSE9P8vrL",
    "outputId": "a42f3087-fb92-4405-b82c-4256c872cf06"
   },
   "outputs": [
    {
     "name": "stdout",
     "output_type": "stream",
     "text": [
      "Connected to MySQL database\n"
     ]
    }
   ],
   "source": [
    "import sqlite3  # Модуль для взаимодействия с SQLite\n",
    "# Попробуем подключиться к базе данных с названием test_db.db\n",
    "try:\n",
    "  conn = sqlite3.connect('test_db.db')\n",
    "  print('Connected to MySQL database')\n",
    "except Error as e:\n",
    "    print(e)"
   ]
  },
  {
   "cell_type": "markdown",
   "metadata": {
    "id": "g5Z2KV3YGEk1"
   },
   "source": [
    "Выполним SQL-запрос, который пробует удалить таблицу *tblCustomers*"
   ]
  },
  {
   "cell_type": "code",
   "execution_count": 2,
   "metadata": {
    "colab": {
     "base_uri": "https://localhost:8080/"
    },
    "executionInfo": {
     "elapsed": 5,
     "status": "ok",
     "timestamp": 1649241026195,
     "user": {
      "displayName": "Николай Смирнов",
      "userId": "05792503510966078252"
     },
     "user_tz": -180
    },
    "id": "gE11TwnH8vrP",
    "outputId": "642276fd-223b-40fe-e3fd-a9989df05261"
   },
   "outputs": [
    {
     "name": "stdout",
     "output_type": "stream",
     "text": [
      "Удаляемая таблица не существует\n"
     ]
    }
   ],
   "source": [
    "try:\n",
    "    # Пытаемся удалить таблицу. \n",
    "    conn.execute(\"DROP TABLE tblCustomers\")\n",
    "except:\n",
    "    # Если ее не существует - игнорируем ошибку\n",
    "    print('Удаляемая таблица не существует')\n",
    "    pass"
   ]
  },
  {
   "cell_type": "markdown",
   "metadata": {
    "id": "e5vI57YyGTSE"
   },
   "source": [
    "Создадим таблицу *tblCustomers*:"
   ]
  },
  {
   "cell_type": "code",
   "execution_count": 3,
   "metadata": {
    "colab": {
     "base_uri": "https://localhost:8080/"
    },
    "executionInfo": {
     "elapsed": 256,
     "status": "ok",
     "timestamp": 1649241032552,
     "user": {
      "displayName": "Николай Смирнов",
      "userId": "05792503510966078252"
     },
     "user_tz": -180
    },
    "id": "-jwpJAmPGTns",
    "outputId": "7a0ea2f8-d950-4372-c801-a49a3ad3423a"
   },
   "outputs": [
    {
     "data": {
      "text/plain": [
       "<sqlite3.Cursor at 0x7f3d9ecee960>"
      ]
     },
     "execution_count": 3,
     "metadata": {},
     "output_type": "execute_result"
    }
   ],
   "source": [
    "conn.execute(\"CREATE TABLE tblCustomers (id INTEGER PRIMARY KEY, name VARCHAR(255), address VARCHAR(255))\")"
   ]
  },
  {
   "cell_type": "markdown",
   "metadata": {
    "id": "YYOxWhNPWVa6"
   },
   "source": [
    "Важно: чтобы первичный ключ генерировался автоматически, нужно указывать в типе данных именно **INTEGER**, а не **INT**.<br>\n",
    "*Autoincrement* (*автоматическая генерация значений*, полезна для первичных ключей) в таком случае применяется автоматически."
   ]
  },
  {
   "cell_type": "markdown",
   "metadata": {
    "id": "Va09edLdGrTN"
   },
   "source": [
    "Вставка новой записи в таблицу с помощью `conn.execute`, при этом для примера в качестве значений полей (name, address) передаем ('Igor', 'Pushkin street, Kolotushkin house')"
   ]
  },
  {
   "cell_type": "code",
   "execution_count": 4,
   "metadata": {
    "executionInfo": {
     "elapsed": 609,
     "status": "ok",
     "timestamp": 1649241038259,
     "user": {
      "displayName": "Николай Смирнов",
      "userId": "05792503510966078252"
     },
     "user_tz": -180
    },
    "id": "dEubahpp8vrQ"
   },
   "outputs": [],
   "source": [
    "conn.execute(\"INSERT INTO tblCustomers (name, address) VALUES ('Igor', 'Pushkin street, Kolotushkin house')\")\n",
    "conn.commit()  # commit сохраняет изменения в базе данных"
   ]
  },
  {
   "cell_type": "markdown",
   "metadata": {
    "id": "y60gnPdzLnL8"
   },
   "source": [
    "Вставка новых записей в таблицу с помощью `conn.executemany`.\n",
    "Вместо **?,?** будут подставлены соответствующие параметры из элементов списка. "
   ]
  },
  {
   "cell_type": "code",
   "execution_count": 5,
   "metadata": {
    "colab": {
     "base_uri": "https://localhost:8080/"
    },
    "executionInfo": {
     "elapsed": 538,
     "status": "ok",
     "timestamp": 1649241043875,
     "user": {
      "displayName": "Николай Смирнов",
      "userId": "05792503510966078252"
     },
     "user_tz": -180
    },
    "id": "9fFkyDJD8vrQ",
    "outputId": "daecf528-8f55-4a2a-f3a1-4c7a56b91656"
   },
   "outputs": [
    {
     "data": {
      "text/plain": [
       "<sqlite3.Cursor at 0x7f3d9eceeb20>"
      ]
     },
     "execution_count": 5,
     "metadata": {},
     "output_type": "execute_result"
    }
   ],
   "source": [
    "# Вставка нескольких строк\n",
    "conn.executemany(\n",
    "    \"INSERT INTO tblCustomers (name, address) VALUES (?,?)\",  # Вместо ?,? будут подставлены соответствующие параметры из элементов списка \n",
    "    [\n",
    "        ('test2', '12345'),\n",
    "        ('test3', '98765'),\n",
    "    ]\n",
    ")"
   ]
  },
  {
   "cell_type": "markdown",
   "metadata": {
    "id": "zbiHARaWUWxc"
   },
   "source": [
    "Создаем курсор:"
   ]
  },
  {
   "cell_type": "code",
   "execution_count": 6,
   "metadata": {
    "executionInfo": {
     "elapsed": 237,
     "status": "ok",
     "timestamp": 1649241177387,
     "user": {
      "displayName": "Николай Смирнов",
      "userId": "05792503510966078252"
     },
     "user_tz": -180
    },
    "id": "KSb9dGjQ8vrR"
   },
   "outputs": [],
   "source": [
    "cursor = conn.cursor()"
   ]
  },
  {
   "cell_type": "markdown",
   "metadata": {
    "id": "aghfJ4MwUVV9"
   },
   "source": [
    "С помощью курсора выполняем команду извлечнеия всех записей из таблицы *tblCustomers*:"
   ]
  },
  {
   "cell_type": "code",
   "execution_count": 7,
   "metadata": {
    "colab": {
     "base_uri": "https://localhost:8080/"
    },
    "executionInfo": {
     "elapsed": 294,
     "status": "ok",
     "timestamp": 1649241178861,
     "user": {
      "displayName": "Николай Смирнов",
      "userId": "05792503510966078252"
     },
     "user_tz": -180
    },
    "id": "7FFsWyxeUVes",
    "outputId": "bbc6af4f-6248-4c86-ade3-52ae542e829c"
   },
   "outputs": [
    {
     "data": {
      "text/plain": [
       "<sqlite3.Cursor at 0x7f3d9eceef80>"
      ]
     },
     "execution_count": 7,
     "metadata": {},
     "output_type": "execute_result"
    }
   ],
   "source": [
    "cursor.execute(\"SELECT * FROM tblCustomers\")"
   ]
  },
  {
   "cell_type": "markdown",
   "metadata": {
    "id": "lrGr6HSUUakc"
   },
   "source": [
    "С помощью `cursor.fetchone()` получаем 1 запись:"
   ]
  },
  {
   "cell_type": "code",
   "execution_count": 8,
   "metadata": {
    "executionInfo": {
     "elapsed": 277,
     "status": "ok",
     "timestamp": 1649241181832,
     "user": {
      "displayName": "Николай Смирнов",
      "userId": "05792503510966078252"
     },
     "user_tz": -180
    },
    "id": "YfPzw3eJUasl"
   },
   "outputs": [],
   "source": [
    "row = cursor.fetchone()  \n",
    "conn.commit()"
   ]
  },
  {
   "cell_type": "markdown",
   "metadata": {
    "id": "pBysREjKVG10"
   },
   "source": [
    "Выводим записи и, используя 'cursor', итеративно получаем новые:"
   ]
  },
  {
   "cell_type": "code",
   "execution_count": 9,
   "metadata": {
    "colab": {
     "base_uri": "https://localhost:8080/"
    },
    "executionInfo": {
     "elapsed": 258,
     "status": "ok",
     "timestamp": 1649241183308,
     "user": {
      "displayName": "Николай Смирнов",
      "userId": "05792503510966078252"
     },
     "user_tz": -180
    },
    "id": "kooLAZw9VG_2",
    "outputId": "75d37459-6279-43c8-d8f5-18087db4c876"
   },
   "outputs": [
    {
     "name": "stdout",
     "output_type": "stream",
     "text": [
      "(1, 'Igor', 'Pushkin street, Kolotushkin house')\n",
      "(2, 'test2', '12345')\n",
      "(3, 'test3', '98765')\n"
     ]
    }
   ],
   "source": [
    "while row:  \n",
    "    print(row)  \n",
    "    row = cursor.fetchone()"
   ]
  },
  {
   "cell_type": "markdown",
   "metadata": {
    "id": "bG7VlPb9dZ4G"
   },
   "source": [
    "**Cursor** - это некая абстракция, которая имеет как совместные функции с объектом **Connection**, так и отличные от нее. **Cursor** здесь не то же самое, что и *Cursor* в базах данных. <br> Подробное описание представления можно найти, например, тут:\n",
    "https://stackoverflow.com/questions/6318126/why-do-you-need-to-create-a-cursor-when-querying-a-sqlite-database <br>\n"
   ]
  },
  {
   "cell_type": "markdown",
   "metadata": {
    "id": "6sTsxjKWW8yb"
   },
   "source": [
    "Получить сразу все извлеченные из таблицы записи можно с помощью `cursor.fetchall()`:"
   ]
  },
  {
   "cell_type": "code",
   "execution_count": 10,
   "metadata": {
    "colab": {
     "base_uri": "https://localhost:8080/"
    },
    "executionInfo": {
     "elapsed": 240,
     "status": "ok",
     "timestamp": 1649241204461,
     "user": {
      "displayName": "Николай Смирнов",
      "userId": "05792503510966078252"
     },
     "user_tz": -180
    },
    "id": "i8LCDOfz8vrS",
    "outputId": "8200c849-2feb-48e7-a979-87efd8749e4c"
   },
   "outputs": [
    {
     "name": "stdout",
     "output_type": "stream",
     "text": [
      "[(1, 'Igor', 'Pushkin street, Kolotushkin house'), (2, 'test2', '12345'), (3, 'test3', '98765')]\n"
     ]
    }
   ],
   "source": [
    "cursor.execute(\"SELECT * FROM tblCustomers\")\n",
    "\n",
    "rows = cursor.fetchall()  # Получаем все записи  \n",
    "print(rows)"
   ]
  },
  {
   "cell_type": "markdown",
   "metadata": {
    "id": "HmG4lGdqYODr"
   },
   "source": [
    "Записи из таблицы можно извлекать \"порциями\" по указанному количеству записей (`chunk_size`):"
   ]
  },
  {
   "cell_type": "code",
   "execution_count": 11,
   "metadata": {
    "colab": {
     "base_uri": "https://localhost:8080/"
    },
    "executionInfo": {
     "elapsed": 251,
     "status": "ok",
     "timestamp": 1649241206379,
     "user": {
      "displayName": "Николай Смирнов",
      "userId": "05792503510966078252"
     },
     "user_tz": -180
    },
    "id": "VEg-XgqG8vrT",
    "outputId": "68a037f8-0c3d-4285-d746-3b82a29b45c1"
   },
   "outputs": [
    {
     "name": "stdout",
     "output_type": "stream",
     "text": [
      "[(1, 'Igor', 'Pushkin street, Kolotushkin house'), (2, 'test2', '12345'), (3, 'test3', '98765')]\n"
     ]
    }
   ],
   "source": [
    "def iter_rows(cursor, chunk_size):\n",
    "    while True:\n",
    "        # Получаем chunk_size записей за один раз\n",
    "        rows = cursor.fetchmany(chunk_size)\n",
    "        yield from rows\n",
    "        if len(rows) < chunk_size:\n",
    "            # Больше записей нет\n",
    "            break\n",
    "\n",
    "cursor.execute(\"SELECT * FROM tblCustomers\")\n",
    "\n",
    "rows = list(iter_rows(cursor, 2))\n",
    "print(rows)"
   ]
  },
  {
   "cell_type": "markdown",
   "metadata": {
    "id": "VlbBF0shdFlv"
   },
   "source": [
    "Изменяем запись и выводим результат:"
   ]
  },
  {
   "cell_type": "code",
   "execution_count": 12,
   "metadata": {
    "colab": {
     "base_uri": "https://localhost:8080/"
    },
    "executionInfo": {
     "elapsed": 255,
     "status": "ok",
     "timestamp": 1649241209871,
     "user": {
      "displayName": "Николай Смирнов",
      "userId": "05792503510966078252"
     },
     "user_tz": -180
    },
    "id": "NJF1i3TSdAtK",
    "outputId": "8aad6498-d672-49fc-9666-d9f149edd613"
   },
   "outputs": [
    {
     "name": "stdout",
     "output_type": "stream",
     "text": [
      "[(1, 'Igor', 'Pushkin street, Kolotushkin house'), (2, '*EDIT*', '12345'), (3, 'test3', '98765')]\n"
     ]
    }
   ],
   "source": [
    "cursor.execute(\"UPDATE tblCustomers SET name=? WHERE id=?\", ('*EDIT*', 2))\n",
    "conn.commit()\n",
    "\n",
    "# Получаем все записи:\n",
    "cursor.execute(\"SELECT * FROM tblCustomers\")\n",
    "rows = cursor.fetchall()\n",
    "print(rows)"
   ]
  },
  {
   "cell_type": "markdown",
   "metadata": {
    "id": "E5-05XMfe11r"
   },
   "source": [
    "Удаляем запись и выводи результат:"
   ]
  },
  {
   "cell_type": "code",
   "execution_count": 13,
   "metadata": {
    "colab": {
     "base_uri": "https://localhost:8080/"
    },
    "executionInfo": {
     "elapsed": 226,
     "status": "ok",
     "timestamp": 1649241211955,
     "user": {
      "displayName": "Николай Смирнов",
      "userId": "05792503510966078252"
     },
     "user_tz": -180
    },
    "id": "3GqIJYBJ8vrU",
    "outputId": "9359ab79-de33-49b4-fa0d-15d45dbdddaf"
   },
   "outputs": [
    {
     "name": "stdout",
     "output_type": "stream",
     "text": [
      "[(2, '*EDIT*', '12345'), (3, 'test3', '98765')]\n"
     ]
    }
   ],
   "source": [
    "cursor.execute(\"DELETE FROM tblCustomers WHERE id=?\", (1,))\n",
    "conn.commit()\n",
    "\n",
    "# Получаем все записи\n",
    "cursor.execute(\"SELECT * FROM tblCustomers\")\n",
    "rows = cursor.fetchall()  \n",
    "print(rows)\n",
    "    "
   ]
  },
  {
   "cell_type": "markdown",
   "metadata": {
    "id": "Rsv3wd2ye7oz"
   },
   "source": [
    "закрываем курсор и подключение к базе данных:"
   ]
  },
  {
   "cell_type": "code",
   "execution_count": 14,
   "metadata": {
    "executionInfo": {
     "elapsed": 249,
     "status": "ok",
     "timestamp": 1649241214554,
     "user": {
      "displayName": "Николай Смирнов",
      "userId": "05792503510966078252"
     },
     "user_tz": -180
    },
    "id": "DXXFeHuje7xV"
   },
   "outputs": [],
   "source": [
    "cursor.close()\n",
    "conn.close()"
   ]
  },
  {
   "cell_type": "markdown",
   "metadata": {
    "id": "LXDUE7OC8v84"
   },
   "source": [
    "# Команды connection\n",
    "С командами объекта **Connection** можно познакомиться, перейдя по [ссылке](https://docs.python.org/3/library/sqlite3.html#sqlite3.Connection).\n",
    "\n",
    "## Команды курсора\n",
    "С командами объекта **Cursor** можно познакомиться, перейдя по [ссылке](https://docs.python.org/3/library/sqlite3.html#sqlite3.Cursor)."
   ]
  }
 ],
 "metadata": {
  "colab": {
   "collapsed_sections": [],
   "name": "71_sqlite3.ipynb",
   "provenance": []
  },
  "kernelspec": {
   "display_name": "Python 3",
   "language": "python",
   "name": "python3"
  },
  "language_info": {
   "codemirror_mode": {
    "name": "ipython",
    "version": 3
   },
   "file_extension": ".py",
   "mimetype": "text/x-python",
   "name": "python",
   "nbconvert_exporter": "python",
   "pygments_lexer": "ipython3",
   "version": "3.8.8"
  }
 },
 "nbformat": 4,
 "nbformat_minor": 4
}
