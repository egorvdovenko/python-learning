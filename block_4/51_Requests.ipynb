{
 "cells": [
  {
   "cell_type": "markdown",
   "metadata": {
    "id": "pf2H-iG11bMn"
   },
   "source": [
    "# Requests\n",
    "\n",
    "Стандартная библиотека python включает в себя все необходимое для запросов по http и https:\n",
    "* модуль urllib\n",
    "* модуль httplib\n",
    "* модуль socket\n",
    "* модуль ssl\n",
    "\n",
    "Рассмотрим популярный модуль **requests**, позволяющая осуществлять запросы http и https значительно проще.\n",
    "\n",
    "В качестве сайта, к которому будут совершаться различные запросы, был выбран https://httpbin.org/. Он обрабатывает все возможные запросы и выдает подробную отладочную информацию в ответе.\n",
    "\n",
    "Для начала сделаем простой [*get-запрос*](https://www.elma-bpm.ru/KB/help/RU/Platform/content/Designer_SOA_Web_Get_index.html) и рассмотрим полученный ответ:"
   ]
  },
  {
   "cell_type": "code",
   "execution_count": null,
   "metadata": {
    "executionInfo": {
     "elapsed": 19,
     "status": "ok",
     "timestamp": 1649238839781,
     "user": {
      "displayName": "Николай Смирнов",
      "userId": "05792503510966078252"
     },
     "user_tz": -180
    },
    "id": "4E5Sm9E41bMt"
   },
   "outputs": [],
   "source": [
    "import requests"
   ]
  },
  {
   "cell_type": "code",
   "execution_count": null,
   "metadata": {
    "executionInfo": {
     "elapsed": 18,
     "status": "ok",
     "timestamp": 1649238839782,
     "user": {
      "displayName": "Николай Смирнов",
      "userId": "05792503510966078252"
     },
     "user_tz": -180
    },
    "id": "bjgWfVhz1bMu"
   },
   "outputs": [],
   "source": [
    "response = requests.get('https://httpbin.org/get')  # Записываем ответ на наш запрос в переменную response"
   ]
  },
  {
   "cell_type": "markdown",
   "metadata": {
    "id": "crjmp0jeMh0v"
   },
   "source": [
    "Посмотрим содрежимое объекта response."
   ]
  },
  {
   "cell_type": "code",
   "execution_count": null,
   "metadata": {
    "colab": {
     "base_uri": "https://localhost:8080/"
    },
    "executionInfo": {
     "elapsed": 18,
     "status": "ok",
     "timestamp": 1649238839783,
     "user": {
      "displayName": "Николай Смирнов",
      "userId": "05792503510966078252"
     },
     "user_tz": -180
    },
    "id": "hWIsXrch1bMv",
    "outputId": "16bdcc9f-d883-41f1-a9ba-03d856d8c87c"
   },
   "outputs": [],
   "source": [
    "print('Объект Response:', response)"
   ]
  },
  {
   "cell_type": "markdown",
   "metadata": {
    "id": "FXxJ7nHBM1NV"
   },
   "source": [
    "Код 200 означает, что запрос успешно выполнен. Можно запросить только код ответа: "
   ]
  },
  {
   "cell_type": "code",
   "execution_count": null,
   "metadata": {
    "colab": {
     "base_uri": "https://localhost:8080/"
    },
    "executionInfo": {
     "elapsed": 17,
     "status": "ok",
     "timestamp": 1649238839783,
     "user": {
      "displayName": "Николай Смирнов",
      "userId": "05792503510966078252"
     },
     "user_tz": -180
    },
    "id": "sBC3KkuVMvAm",
    "outputId": "de150d00-7dda-4aea-b6b6-1dbd52bfd5bd"
   },
   "outputs": [],
   "source": [
    "print('Код ответа:', response.status_code)\n",
    "\n",
    "print('Запрос успешен?', response.ok)"
   ]
  },
  {
   "cell_type": "markdown",
   "metadata": {
    "id": "Jsuigx2JNrxc"
   },
   "source": [
    "В блоке ниже ответ сначала в виде [байтовой строки](https://pythononline.ru/osnovy/bytes-python), а затем в виде [JSON-нотации](https://www.json.org/json-ru.html):"
   ]
  },
  {
   "cell_type": "code",
   "execution_count": null,
   "metadata": {
    "colab": {
     "base_uri": "https://localhost:8080/"
    },
    "executionInfo": {
     "elapsed": 15,
     "status": "ok",
     "timestamp": 1649238839784,
     "user": {
      "displayName": "Николай Смирнов",
      "userId": "05792503510966078252"
     },
     "user_tz": -180
    },
    "id": "142WmgT1NB7v",
    "outputId": "6ffb8842-b352-41e4-c50d-a40b83a454fc"
   },
   "outputs": [],
   "source": [
    "print('Содержимое ответа:')\n",
    "print(response.content)  \n",
    "print('\\nТекст ответа (строка):')\n",
    "print(response.text)"
   ]
  },
  {
   "cell_type": "code",
   "execution_count": null,
   "metadata": {
    "colab": {
     "base_uri": "https://localhost:8080/"
    },
    "executionInfo": {
     "elapsed": 12,
     "status": "ok",
     "timestamp": 1649238839785,
     "user": {
      "displayName": "Николай Смирнов",
      "userId": "05792503510966078252"
     },
     "user_tz": -180
    },
    "id": "U3-eIh9gNYUV",
    "outputId": "7d54b0a5-44fa-4e82-f741-394de998437d"
   },
   "outputs": [],
   "source": [
    "print('Кодировка ответа (используется при распознавании .content в .text):', response.encoding)\n",
    "print('Заголовки ответа (массив):', response.headers)"
   ]
  },
  {
   "cell_type": "markdown",
   "metadata": {
    "id": "BbApm-vz1bMw"
   },
   "source": [
    "Если текст ответа - данные в формате [*json*](https://www.json.org/json-ru.html), то метод .json позволит получить данные в виде python словаря:"
   ]
  },
  {
   "cell_type": "code",
   "execution_count": null,
   "metadata": {
    "colab": {
     "base_uri": "https://localhost:8080/"
    },
    "executionInfo": {
     "elapsed": 258,
     "status": "ok",
     "timestamp": 1649238846075,
     "user": {
      "displayName": "Николай Смирнов",
      "userId": "05792503510966078252"
     },
     "user_tz": -180
    },
    "id": "fvutUfz71bMw",
    "outputId": "2a779559-266d-479e-b36f-00ea41a02485"
   },
   "outputs": [],
   "source": [
    "parsed_json = response.json()  # Получение ответа в формате json\n",
    "print('Результат .json() - набор данных в стандартных структурах python:', type(parsed_json))\n",
    "\n",
    "print('Отправленный заголовок User-Agent:', parsed_json['headers']['User-Agent'])"
   ]
  },
  {
   "cell_type": "markdown",
   "metadata": {
    "id": "nc5McguF1bMx"
   },
   "source": [
    "Рассмотрим дополительные параметры метода `.get()`:"
   ]
  },
  {
   "cell_type": "code",
   "execution_count": null,
   "metadata": {
    "colab": {
     "base_uri": "https://localhost:8080/"
    },
    "executionInfo": {
     "elapsed": 8,
     "status": "ok",
     "timestamp": 1649238846901,
     "user": {
      "displayName": "Николай Смирнов",
      "userId": "05792503510966078252"
     },
     "user_tz": -180
    },
    "id": "C1efGNHg1bMx",
    "outputId": "bf35abe7-5627-443d-e45c-db87d3eb024c"
   },
   "outputs": [],
   "source": [
    "response = requests.get(\n",
    "    'https://httpbin.org/get',\n",
    "    params={'My Param': 'My value', '?!&': '*&@!', 'array': [1, 2, 3]},  # Задаем параметры\n",
    "    headers={'X-My-Header': 'SomeValue'},  # Задаем заголовки\n",
    "    auth=('Login', 'Password'),  # Передаем данные для авторизации\n",
    "    cookies={'My Cookie': 'Cookie Value'}  # Передаем cookie (если это не первый запрос к адресу)\n",
    ")\n",
    "print(response.text)  # Печатаем ответ"
   ]
  },
  {
   "cell_type": "markdown",
   "metadata": {
    "id": "N8seldVQ1bMy"
   },
   "source": [
    "Аргумент *params* конструирует параметры запроса (которые передаются после \"?\" в *url*) из словаря. Все значения приобретают правильную кодировку, можно использовать любые символы. Как видите, сервер корректно распознал наши аргументы (*args*). Для передачи данные были преобразованы в нечитаемый *urlencoding* (можно увидеть в *url*)."
   ]
  },
  {
   "cell_type": "markdown",
   "metadata": {
    "id": "QTwWNTz81bMy"
   },
   "source": [
    "С помощью аргумента headers мы можем передать словарь с произвольными http заголовками, которые нужно отправить на сервер. В тексте ответа можно заметить отправленный заголовок *X-My-Header*.\n",
    "\n",
    "Аргумент *auth* используется для создания заголовка Authorization в правильном формате (закодированая base64 строка)."
   ]
  },
  {
   "cell_type": "markdown",
   "metadata": {
    "id": "jsun--fX1bMz"
   },
   "source": [
    "Модуль **base64** предоставляет функции для кодирования двоичных данных в  символы ASCII и декодирования таких кодировок обратно в двоичные данные."
   ]
  },
  {
   "cell_type": "code",
   "execution_count": null,
   "metadata": {
    "colab": {
     "base_uri": "https://localhost:8080/"
    },
    "executionInfo": {
     "elapsed": 3,
     "status": "ok",
     "timestamp": 1649238850446,
     "user": {
      "displayName": "Николай Смирнов",
      "userId": "05792503510966078252"
     },
     "user_tz": -180
    },
    "id": "ou5PjIcu1bMz",
    "outputId": "6fd39175-6f91-42fd-bf80-d8d8cb96600c"
   },
   "outputs": [],
   "source": [
    "import base64  \n",
    "\n",
    "# Вычленяем из ответа связку логин:пароль и преобразуем в тип данных bytes\n",
    "base64.b64decode(response.json()['headers']['Authorization'].split()[1])"
   ]
  },
  {
   "cell_type": "markdown",
   "metadata": {
    "id": "gbG1du1x1bM0"
   },
   "source": [
    "Аргумент cookies позволяет вручную указывать передаваемые Cookie. Для более тонкой настройки (время жизни, домены) можно использовать `requests.cookies.RequestsCookieJar`, но удобнее всего использовать сессии.\n",
    "\n",
    "Все предыдущие примеры были рассмотрены на основе запроса `GET`. При использовании запроса [`POST`](https://htmlacademy.ru/blog/boost/frontend/get-vs-post) (используется при отправке форм, файлов) становятся доступными еще 3 параметра:\n",
    "*   `data`\n",
    "*   `json`\n",
    "*   `files`\n",
    "\n",
    "`data` позволяет отправлять данные в виде набора байтов."
   ]
  },
  {
   "cell_type": "code",
   "execution_count": null,
   "metadata": {
    "colab": {
     "base_uri": "https://localhost:8080/"
    },
    "executionInfo": {
     "elapsed": 598,
     "status": "ok",
     "timestamp": 1649238853005,
     "user": {
      "displayName": "Николай Смирнов",
      "userId": "05792503510966078252"
     },
     "user_tz": -180
    },
    "id": "UzwiI5ad1bM0",
    "outputId": "a573cb01-5d75-4972-fb9a-4720316a2ff2"
   },
   "outputs": [],
   "source": [
    "response = requests.post(\n",
    "    'https://httpbin.org/post',  # Адрес запроса\n",
    "    data='Data in post request body',  # Данные запроса\n",
    "    params={'Data in': 'url parameters'}  # Можно посылать независимо от data-post\n",
    ")\n",
    "print(response.text)"
   ]
  },
  {
   "cell_type": "markdown",
   "metadata": {
    "id": "T8Ep-xPO1bM0"
   },
   "source": [
    "Если в `data` передать словарь, то данные будут отправлены в формате html-формы."
   ]
  },
  {
   "cell_type": "code",
   "execution_count": null,
   "metadata": {
    "colab": {
     "base_uri": "https://localhost:8080/"
    },
    "executionInfo": {
     "elapsed": 587,
     "status": "ok",
     "timestamp": 1649238855694,
     "user": {
      "displayName": "Николай Смирнов",
      "userId": "05792503510966078252"
     },
     "user_tz": -180
    },
    "id": "gKUBD7Ne1bM0",
    "outputId": "cb6661b2-8903-435f-e2b8-da7578843fb7"
   },
   "outputs": [],
   "source": [
    "response = requests.post(\n",
    "    'https://httpbin.org/post',\n",
    "    data={'field1': 'Hello', 'field2': 'World'}\n",
    ")\n",
    "print(response.text)"
   ]
  },
  {
   "cell_type": "markdown",
   "metadata": {
    "id": "a6qQidyq1bM1"
   },
   "source": [
    "Параметр `json` позволяет использовать в теле запроса данные в формате json."
   ]
  },
  {
   "cell_type": "code",
   "execution_count": null,
   "metadata": {
    "colab": {
     "base_uri": "https://localhost:8080/"
    },
    "executionInfo": {
     "elapsed": 262,
     "status": "ok",
     "timestamp": 1649238857563,
     "user": {
      "displayName": "Николай Смирнов",
      "userId": "05792503510966078252"
     },
     "user_tz": -180
    },
    "id": "hKcNMzGg1bM1",
    "outputId": "e68f77ae-2378-40f2-e89d-a46b4da10b0c"
   },
   "outputs": [],
   "source": [
    "response = requests.post(\n",
    "    'https://httpbin.org/post',\n",
    "    json={'field1': 'Hello', 'field2': 'World'},  # Передаем данные в формате json\n",
    ")\n",
    "print(response.text)"
   ]
  },
  {
   "cell_type": "markdown",
   "metadata": {
    "id": "rlNevlUY1bM1"
   },
   "source": [
    "`files` позволяет отправлять файлы в post запросе (в формате multipart/form-data):"
   ]
  },
  {
   "cell_type": "code",
   "execution_count": null,
   "metadata": {
    "executionInfo": {
     "elapsed": 267,
     "status": "ok",
     "timestamp": 1649238859308,
     "user": {
      "displayName": "Николай Смирнов",
      "userId": "05792503510966078252"
     },
     "user_tz": -180
    },
    "id": "1Wux5mnHSlOl"
   },
   "outputs": [],
   "source": [
    "# Создаем файл для отправки\n",
    "with open('request_test.txt', 'w') as f:\n",
    "  f.write('some data')"
   ]
  },
  {
   "cell_type": "code",
   "execution_count": null,
   "metadata": {
    "colab": {
     "base_uri": "https://localhost:8080/"
    },
    "executionInfo": {
     "elapsed": 403,
     "status": "ok",
     "timestamp": 1649238860714,
     "user": {
      "displayName": "Николай Смирнов",
      "userId": "05792503510966078252"
     },
     "user_tz": -180
    },
    "id": "_qa-TS4N1bM1",
    "outputId": "45647d82-4e53-48e7-99d2-6b7cbe4ba56e"
   },
   "outputs": [],
   "source": [
    "response = requests.post(\n",
    "    'https://httpbin.org/post',\n",
    "    files={'request_test.txt': ('request_test.txt', open('request_test.txt'))}\n",
    ")\n",
    "print(response.text)"
   ]
  },
  {
   "cell_type": "markdown",
   "metadata": {
    "id": "ZpPHYJtK1bM2"
   },
   "source": [
    "## Дополнительные функции"
   ]
  },
  {
   "cell_type": "markdown",
   "metadata": {
    "id": "NTJGIrA-1bM2"
   },
   "source": [
    "Подробно про остальные функции можно прочитать в [документации](http://docs.python-requests.org/en/latest/api/). \n",
    "\n",
    "Для удобной работы с [Cookies](https://ssl.com.ua/blog/what-are-cookies/) можно воспользоваться сессией:"
   ]
  },
  {
   "cell_type": "code",
   "execution_count": null,
   "metadata": {
    "colab": {
     "base_uri": "https://localhost:8080/"
    },
    "executionInfo": {
     "elapsed": 255,
     "status": "ok",
     "timestamp": 1649238864604,
     "user": {
      "displayName": "Николай Смирнов",
      "userId": "05792503510966078252"
     },
     "user_tz": -180
    },
    "id": "R12Z9-gK1bM2",
    "outputId": "76eabe5c-61af-4841-ded2-84cc1b4f78bb"
   },
   "outputs": [],
   "source": [
    "with requests.Session() as sess:  # Важно использовать контекст with, чтобы убедиться в выполнении кода\n",
    "    sess.get('https://httpbin.org/cookies/set/MyCookie/MyValue')\n",
    "    print(sess.get('https://httpbin.org/cookies').text)"
   ]
  },
  {
   "cell_type": "markdown",
   "metadata": {
    "id": "Sa7DL-sU1bM2"
   },
   "source": [
    "Если не использовать общую сессию для этих двух запросов, то значение *cookie* не отправляется во втором запросе:"
   ]
  },
  {
   "cell_type": "code",
   "execution_count": null,
   "metadata": {
    "colab": {
     "base_uri": "https://localhost:8080/"
    },
    "executionInfo": {
     "elapsed": 617,
     "status": "ok",
     "timestamp": 1649238866356,
     "user": {
      "displayName": "Николай Смирнов",
      "userId": "05792503510966078252"
     },
     "user_tz": -180
    },
    "id": "zFJKmmQC1bM2",
    "outputId": "22aa8d66-6aa9-406d-9afd-e5cd2cd54794"
   },
   "outputs": [],
   "source": [
    "print('1 запрос:')\n",
    "response = requests.get('https://httpbin.org/cookies/set/MyCookie/MyValue')\n",
    "\n",
    "print(response.headers)\n",
    "\n",
    "print('2 запрос:')\n",
    "print(requests.get('https://httpbin.org/cookies').text)"
   ]
  },
  {
   "cell_type": "markdown",
   "metadata": {
    "id": "wL3xMKY-1bM3"
   },
   "source": [
    "На этом основные функции requests подходят к концу. Дополнительные функции:\n",
    "\n",
    "Рассмотренные методы `.get` и `.post` на самом деле являются обертками над основным методом модуля [requests.request](http://docs.python-requests.org/en/latest/api/#requests.request)."
   ]
  },
  {
   "cell_type": "code",
   "execution_count": null,
   "metadata": {
    "colab": {
     "base_uri": "https://localhost:8080/"
    },
    "executionInfo": {
     "elapsed": 300,
     "status": "ok",
     "timestamp": 1649238867518,
     "user": {
      "displayName": "Николай Смирнов",
      "userId": "05792503510966078252"
     },
     "user_tz": -180
    },
    "id": "84wIb-F91bM3",
    "outputId": "a8c4de0f-2287-4de6-a459-8f9df31afc50"
   },
   "outputs": [],
   "source": [
    "print(requests.request('GET', 'https://httpbin.org/get').text)"
   ]
  },
  {
   "cell_type": "markdown",
   "metadata": {
    "id": "kRB0hNBh1bM3"
   },
   "source": [
    "Все рассмотренные параметры передаются напрямую в метод `.request`.\n",
    "\n",
    "В редких случаях кроме `GET` и `POST` требуется использовать другие методы HTTP запросов: `OPTIONS`/`PUT`/`PATCH`/`DELETE`/`HEAD`. Для этого можно использовать `requests.request('<метод>')` или `requests.<метод>`."
   ]
  },
  {
   "cell_type": "code",
   "execution_count": null,
   "metadata": {
    "colab": {
     "base_uri": "https://localhost:8080/"
    },
    "executionInfo": {
     "elapsed": 287,
     "status": "ok",
     "timestamp": 1649238868805,
     "user": {
      "displayName": "Николай Смирнов",
      "userId": "05792503510966078252"
     },
     "user_tz": -180
    },
    "id": "wuGHKx-V1bM3",
    "outputId": "4f6319b8-df20-446a-e124-28ae04af9f6d"
   },
   "outputs": [],
   "source": [
    "print(requests.delete('https://httpbin.org/anything').text)"
   ]
  },
  {
   "cell_type": "markdown",
   "metadata": {
    "id": "NZH3-ESs1bM3"
   },
   "source": [
    "В случае получения большого запроса или потоковой обработки данных можно запрашивать небольшие кусочки данных и читать их без обработки с помощью `response.raw`."
   ]
  },
  {
   "cell_type": "code",
   "execution_count": null,
   "metadata": {
    "colab": {
     "base_uri": "https://localhost:8080/"
    },
    "executionInfo": {
     "elapsed": 267,
     "status": "ok",
     "timestamp": 1649238871599,
     "user": {
      "displayName": "Николай Смирнов",
      "userId": "05792503510966078252"
     },
     "user_tz": -180
    },
    "id": "kgEaKwqU1bM3",
    "outputId": "0374d6e9-3af7-4537-8b52-7fda02bfee92"
   },
   "outputs": [],
   "source": [
    "response = requests.get('https://httpbin.org/bytes/50', stream=True)  # Данные передаются поточно\n",
    "data = response.raw.read(10)  # Считываем данные кусочно, без обработки\n",
    "while data:\n",
    "    print('Кусочек данных:', data)\n",
    "    data = response.raw.read(10)\n"
   ]
  },
  {
   "cell_type": "markdown",
   "metadata": {
    "id": "BQ3ED19J1bM4"
   },
   "source": [
    "Альтернативный способ частичного скачивания, используя итераторы. В данном случае мы еще сохраняем данные в файл."
   ]
  },
  {
   "cell_type": "code",
   "execution_count": null,
   "metadata": {
    "colab": {
     "base_uri": "https://localhost:8080/"
    },
    "executionInfo": {
     "elapsed": 308,
     "status": "ok",
     "timestamp": 1649238874964,
     "user": {
      "displayName": "Николай Смирнов",
      "userId": "05792503510966078252"
     },
     "user_tz": -180
    },
    "id": "8hAH5zrL1bM4",
    "outputId": "6b431e13-025d-44d2-9034-5ef795e96b27"
   },
   "outputs": [],
   "source": [
    "response = requests.get('https://httpbin.org/bytes/30', stream=True)\n",
    "with open('random_data', 'wb') as file:\n",
    "    for chunk in response.iter_content(10):\n",
    "        print('Кусочек данных:', chunk)\n",
    "        file.write(chunk)"
   ]
  },
  {
   "cell_type": "markdown",
   "metadata": {
    "id": "EnPSQB5c1bM4"
   },
   "source": [
    "Для наилучшей производительности следует использовать размер куска в 2048/4096/8192 байт."
   ]
  },
  {
   "cell_type": "markdown",
   "metadata": {
    "id": "BmEFYotY1bM4"
   },
   "source": [
    "Для ограничения запроса по времени можно использовать параметр timeout:"
   ]
  },
  {
   "cell_type": "code",
   "execution_count": null,
   "metadata": {
    "colab": {
     "base_uri": "https://localhost:8080/",
     "height": 545
    },
    "executionInfo": {
     "elapsed": 886,
     "status": "error",
     "timestamp": 1649238876978,
     "user": {
      "displayName": "Николай Смирнов",
      "userId": "05792503510966078252"
     },
     "user_tz": -180
    },
    "id": "MjJ6A-2L1bM4",
    "outputId": "fccfea53-6736-4dd9-f80a-15a23ee57cc4"
   },
   "outputs": [],
   "source": [
    "requests.get('https://httpbin.org/delay/3', timeout=0.5)"
   ]
  },
  {
   "cell_type": "code",
   "execution_count": null,
   "metadata": {
    "id": "5gL3SP_e1bM5"
   },
   "outputs": [],
   "source": []
  }
 ],
 "metadata": {
  "colab": {
   "collapsed_sections": [],
   "name": "51_Requests.ipynb",
   "provenance": []
  },
  "kernelspec": {
   "display_name": "Python 3",
   "language": "python",
   "name": "python3"
  },
  "language_info": {
   "codemirror_mode": {
    "name": "ipython",
    "version": 3
   },
   "file_extension": ".py",
   "mimetype": "text/x-python",
   "name": "python",
   "nbconvert_exporter": "python",
   "pygments_lexer": "ipython3",
   "version": "3.8.8"
  }
 },
 "nbformat": 4,
 "nbformat_minor": 4
}
