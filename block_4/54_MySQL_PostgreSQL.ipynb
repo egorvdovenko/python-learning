{
 "cells": [
  {
   "cell_type": "markdown",
   "metadata": {
    "id": "ItNeZMvT8vrE"
   },
   "source": [
    "# Базы данных\n",
    "\n",
    "В **Python** определен стандарт *API* баз данных ([PEP 249](https://www.python.org/dev/peps/pep-0249/)), на основе которого построены *API* для различных баз данных, в частности **MySQL** и **PostgreSQL**.\n",
    "\n",
    "Для работы с **MySQL** требуется установка модуля **mysql-connector-python**, для **PostgreSQL** - модуля **psycopg2**. Примеры приведены на основе MySQL, но за счет универсальности API применимы и для **PostgreSQL**.\n",
    "\n",
    "**В тексте блокнота указаны вымышленные параметры подключения к базе данных (БД). Код в этом блокноте нельзя запускать, следует прочитать код и посмотреть полученный ранее вывод. Если вы запустили ячейку, то удалите ваш блокнот и скачайте его заново.**"
   ]
  },
  {
   "cell_type": "markdown",
   "metadata": {
    "id": "R1aP0wcG7w6y"
   },
   "source": [
    "```\n",
    "import mysql.connector\n",
    "from mysql.connector import Error\n",
    "\n",
    "try:\n",
    "    conn = mysql.connector.connect(\n",
    "        host='111.111.111.111', port=3333, \n",
    "        user='user', password='txavChRizHiL;3GW7y8cw6tn',\n",
    "        database='python_mysql'\n",
    "    )\n",
    "    print('Connected to MySQL database')\n",
    "except Error as e:\n",
    "    print(e)\n",
    "```\n",
    "Connected to MySQL database"
   ]
  },
  {
   "cell_type": "markdown",
   "metadata": {
    "id": "uapebIqYXID2"
   },
   "source": [
    "Создаем объект курсора для обращения к БД:"
   ]
  },
  {
   "cell_type": "markdown",
   "metadata": {
    "id": "Ylf3BN4J8Bfr"
   },
   "source": [
    "```\n",
    "cursor = conn.cursor()\n",
    "\n",
    "# Execute SQL requests\n",
    "try:\n",
    "    # Пытаемся удалить таблицу. \n",
    "    cursor.execute(\"DROP TABLE customers\")\n",
    "except:\n",
    "    # Если ее не существует - игнорируем ошибку\n",
    "    pass\n",
    "\n",
    "cursor.execute(\"CREATE TABLE customers (id INT AUTO_INCREMENT PRIMARY KEY, name VARCHAR(255), address VARCHAR(255))\")  \n",
    "# В PostgreSQL вместо AUTO_INCREMENT необходимо написать SERIAL\n",
    "\n",
    "# Вставка одной строки\n",
    "# В бд mysql используется \"%s\"\n",
    "cursor.execute(\"INSERT INTO customers (name, address) VALUES (%s, %s)\", ('test', 'bla-bla'))\n",
    "conn.commit()\n",
    "\n",
    "# Вставка нескольких строк\n",
    "cursor.executemany(\n",
    "    \"INSERT INTO customers (name, address) VALUES (%s, %s)\", \n",
    "    [\n",
    "        ('test2', '12345'),\n",
    "        ('test3', '98765'),\n",
    "    ]\n",
    ")\n",
    "print('Last inserted id:', cursor.lastrowid)\n",
    "conn.commit()\n",
    "```\n",
    "Last inserted id: 2"
   ]
  },
  {
   "cell_type": "markdown",
   "metadata": {
    "id": "VaC2ApLL8_aS"
   },
   "source": [
    "```\n",
    "cursor.execute(\"SELECT * FROM customers\")\n",
    "\n",
    "row = cursor.fetchone()  # Получаем 1 запись\n",
    "\n",
    "while row:  \n",
    "    print(row)  \n",
    "    row = cursor.fetchone()\n",
    "```\n",
    "(1, 'test', 'bla-bla')<br>\n",
    "(2, 'test2', '12345')<br>\n",
    "(3, 'test3', '98765')"
   ]
  },
  {
   "cell_type": "markdown",
   "metadata": {
    "id": "Rky17hDr9Km8"
   },
   "source": [
    "```\n",
    "cursor.execute(\"SELECT * FROM customers\")\n",
    "\n",
    "# Получаем все записи  \n",
    "rows = cursor.fetchall()\n",
    "print(rows)\n",
    "```\n",
    "[(1, 'test', 'bla-bla'), (2, 'test2', '12345'), (3, 'test3', '98765')]"
   ]
  },
  {
   "cell_type": "markdown",
   "metadata": {
    "id": "hi-25bQ_9Unf"
   },
   "source": [
    "```\n",
    "def iter_rows(cursor, chunk_size):\n",
    "    while True:\n",
    "        # Получаем chunk_size записей за раз\n",
    "        rows = cursor.fetchmany(chunk_size)\n",
    "        yield from rows\n",
    "        if len(rows) < chunk_size:\n",
    "            # Больше записей нет\n",
    "            break\n",
    "\n",
    "cursor.execute(\"SELECT * FROM customers\")\n",
    "\n",
    "rows = list(iter_rows(cursor, 2))\n",
    "print(rows)\n",
    "```\n",
    "[(1, 'test', 'bla-bla'), (2, 'test2', '12345'), (3, 'test3', '98765')]"
   ]
  },
  {
   "cell_type": "markdown",
   "metadata": {
    "id": "XFXwijkO9iko"
   },
   "source": [
    "```\n",
    "# Изменяем запись  \n",
    "cursor.execute(\"UPDATE customers SET name=%s WHERE id=%s\", ('*EDIT*', 2))\n",
    "conn.commit()\n",
    "\n",
    "# Получаем все записи\n",
    "cursor.execute(\"SELECT * FROM customers\")\n",
    "rows = cursor.fetchall()\n",
    "print(rows)\n",
    "\n",
    "# Удаляем запись  \n",
    "cursor.execute(\"DELETE FROM customers WHERE id=%s\", (1,))\n",
    "conn.commit()\n",
    "\n",
    "# Получаем все записи\n",
    "cursor.execute(\"SELECT * FROM customers\")\n",
    "rows = cursor.fetchall()\n",
    "print(rows)\n",
    "    \n",
    "cursor.close()\n",
    "conn.close()\n",
    "```\n",
    "[(1, 'test', 'bla-bla'), (2, '\\*EDIT\\*', '12345'), (3, 'test3', '98765')]<br>\n",
    "[(2, '\\*EDIT\\*', '12345'), (3, 'test3', '98765')]"
   ]
  },
  {
   "cell_type": "markdown",
   "metadata": {
    "id": "LXDUE7OC8v84"
   },
   "source": [
    "# Основные команды\n",
    "\n",
    "* `con.close()` – закрывает соединение с сервером базы данных.\n",
    "* `con.commit()` – подтверждает все незавершенные транзакции\n",
    "* `con.rollback()` – откатывает все изменения в базе данных до момента, когда были запущены незавершённые транзакции.\n",
    "* `con.cursor()` – создаёт новый *курсор*. Это экземпляр класса **Cursor**. *Курсор* – это объект, который используется для **SQL** запросов и получения результата.\n",
    "* `con.autocommit()` – используется для автоматического завершения транзакции.\n",
    "* `con.affected_rows()` – возвращает число строк, на которые повлиял последний запрос. Лучше использовать `cur.rowcount()`. (не стандартный)\n",
    "* `con.errno()` – возвращает номер ошибки, если она произошла.\n",
    "* `con.error()` – возвращает описание ошибки, если она произошла.\n",
    "\n",
    "## Команды курсора\n",
    "\n",
    "* `cur.close()` – закрывает *курсор*, предотвращая выполнение каких-либо запросов с его помощью.\n",
    "* `cur.callproc(procname [, param])` – вызывает хранимую процедуру.\n",
    "* `cur.execute(query [, param])` – выполняет запрос к базе данных (query).\n",
    "* `cur.executemany(query [, paramsequence])` – многократное выполнение запросов к базе данных (query).\n",
    "* `cur.fetchone()` – возвращает следующую запись из набора данных полученного вызовом cur.execute*()\n",
    "* `cur.fetchmany([size])` – возвращает последовательность записей из набора данных.\n",
    "* `cur.fetchall()` – возвращает последовательность всех записей оставшихся в полученном наборе данных.\n",
    "* `cur.nextset()` – пропускает все оставшиеся записи в текущем наборе данных и переходит к следующему набору.\n",
    "* `cur.description` – возвращает последовательность кортежей с информацией о каждом столбце в текущем наборе данных. Кортеж имеет вид (*name*, *type_code*, *display_size*, *internal_size*, *precision*, *scale*, *null_ok*)\n",
    "* `cur.arraysize` – целое число, которое используется методом *cur.fetchmany* в качестве значения по умолчанию.\n",
    "* `cur.rowcount` – возвращает число строк, на которые повлиял последний запрос.\n"
   ]
  }
 ],
 "metadata": {
  "colab": {
   "collapsed_sections": [],
   "name": "72_MySQL_PostgreSQL.ipynb",
   "provenance": []
  },
  "kernelspec": {
   "display_name": "Python 3",
   "language": "python",
   "name": "python3"
  },
  "language_info": {
   "codemirror_mode": {
    "name": "ipython",
    "version": 3
   },
   "file_extension": ".py",
   "mimetype": "text/x-python",
   "name": "python",
   "nbconvert_exporter": "python",
   "pygments_lexer": "ipython3",
   "version": "3.8.8"
  }
 },
 "nbformat": 4,
 "nbformat_minor": 4
}
